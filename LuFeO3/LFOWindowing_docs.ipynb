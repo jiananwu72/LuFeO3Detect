{
 "cells": [
  {
   "cell_type": "markdown",
   "id": "c244b7fa",
   "metadata": {},
   "source": [
    "## This notebook is temporary: solely for documenting parameters tested"
   ]
  },
  {
   "cell_type": "code",
   "execution_count": null,
   "id": "52cbcdb6",
   "metadata": {
    "vscode": {
     "languageId": "plaintext"
    }
   },
   "outputs": [],
   "source": [
    "threshold = 0.3 #usally between 0.01 and 0.9  the smaller the more atoms\n",
    "atom_size = 0.08 #in nm\n",
    "min_atom_size = 0.05 #in nm\n",
    "s = hs.load('/content/drive/MyDrive/Data/LFO/HAADF_01.dm3') #height: 35 px\n",
    "s_cropped = s.isig[360:-100, 295:330]"
   ]
  },
  {
   "cell_type": "code",
   "execution_count": null,
   "id": "1757e6b5",
   "metadata": {
    "vscode": {
     "languageId": "plaintext"
    }
   },
   "outputs": [],
   "source": [
    "threshold = 0.3 #usally between 0.01 and 0.9  the smaller the more atoms\n",
    "atom_size = 0.08 #in nm\n",
    "min_atom_size = 0.05 #in nm\n",
    "s = hs.load('/content/drive/MyDrive/Data/LFO/HAADF_01.dm3') #height: 35 px\n",
    "s_cropped = s.isig[350:-50, 1300:1335]"
   ]
  },
  {
   "cell_type": "code",
   "execution_count": null,
   "id": "d6e9ed06",
   "metadata": {
    "vscode": {
     "languageId": "plaintext"
    }
   },
   "outputs": [],
   "source": [
    "threshold = 3e-7 #usally between 0.01 and 0.9  the smaller the more atoms\n",
    "atom_size = 0.07 #in nm\n",
    "min_atom_size = 0.02 #in nm\n",
    "s = hs.load('/content/drive/MyDrive/Data/LFO/ITO LuFeO3_0029.dm3')\n",
    "s_cropped = s.isig[500:-500, 725:745]"
   ]
  },
  {
   "cell_type": "code",
   "execution_count": null,
   "id": "0324d034",
   "metadata": {
    "vscode": {
     "languageId": "plaintext"
    }
   },
   "outputs": [],
   "source": [
    "# Plotting Windows:\n",
    "\n",
    "windows = []\n",
    "image = s_cropped\n",
    "radius_x = 80\n",
    "radius_y = 15\n",
    "atoms = refined_atoms\n",
    "for i in range(atoms.shape[0]):\n",
    "    x = int(atoms[i][1])\n",
    "    y = int(atoms[i][0])\n",
    "    if x > radius_x and x < image.data.shape[1]-radius_x and y > radius_y and y < image.data.shape[0]-radius_y:\n",
    "        window = image.isig[x - radius_x:x + radius_x, y - radius_y:y + radius_y]\n",
    "        windows.append(window)\n",
    "\n",
    "windows[3].plot();"
   ]
  }
 ],
 "metadata": {
  "language_info": {
   "name": "python"
  }
 },
 "nbformat": 4,
 "nbformat_minor": 5
}
